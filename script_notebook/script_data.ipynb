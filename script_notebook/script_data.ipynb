{
 "cells": [
  {
   "cell_type": "markdown",
   "metadata": {},
   "source": [
    "# The notebook:\n",
    " * Load city equipment data from <a href=\"https://api.paris.fr\">Paris API</a> and <a href=\"http://donnees.ville.montreal.qc.ca/dataset?res_format=JSON\">Montreal API</a>\n",
    " * Clean data on csv files with header (\"id\",\"name\",\"lat\",\"lon\",\"address\",\"zipCode\",\"websiteUrl\",\"id_cat\",\"cat\",\"city\",\"type\")\n",
    " * Concatenation of the dataset\n",
    " * Save the data in a csv file\n",
    "\n",
    "** Table of content**\n",
    " * [1) Paris API](#parisapi)\n",
    " * [2) Montreal API](#montrealapi)\n",
    " * [3) Concatenation](#concatenation)"
   ]
  },
  {
   "cell_type": "markdown",
   "metadata": {},
   "source": [
    "# <a id=\"parisapi\">1) Paris API<a>"
   ]
  },
  {
   "cell_type": "code",
   "execution_count": 1,
   "metadata": {
    "collapsed": true
   },
   "outputs": [],
   "source": [
    "import pandas as pd\n",
    "import requests"
   ]
  },
  {
   "cell_type": "code",
   "execution_count": 2,
   "metadata": {
    "collapsed": true
   },
   "outputs": [],
   "source": [
    "def get_equipement(id_):\n",
    "    equipement = requests.get(url=\"https://api.paris.fr/api/data/1.0/Equipements/get_equipement/?token=\"+\n",
    "                             token+\"&id=\"+str(id_)).json()[\"data\"]\n",
    "    return equipement\n",
    "\n",
    "def get_websiteurl(name,id_):\n",
    "    return \"http://equipement.paris.fr/\"+name.lower().replace(\" \",\"-\").replace(\"'\",\"-\")+\"-\"+id_\n",
    "\n",
    "def get_dataframe_equipements(id_cat,cat):\n",
    "    equipements = requests.get(\n",
    "                                  url=\"https://api.paris.fr/api/data/1.0/Equipements/get_equipements/?token=\"+\n",
    "                                   token+\"&cid=\"+id_cat+\"&offset=1&limit=1000\").json()[\"data\"]\n",
    "    equipements_ =  [[e[\"idequipements\"],e[\"name\"],e[\"lat\"],e[\"lon\"],e[\"address\"],\n",
    "                     e[\"zipCode\"],get_websiteurl(e[\"name\"],str(e[\"idequipements\"])),id_cat,cat]\n",
    "                     for e in [get_equipement(int(x[\"id\"]))[0] for x in equipements]]\n",
    "    return pd.DataFrame(data=equipements_ , \n",
    "                        columns=[\"id\",\"name\",\"lat\",\"lon\",\"address\",\"zipCode\",\"websiteUrl\",\"id_cat\",\"cat\"])"
   ]
  },
  {
   "cell_type": "code",
   "execution_count": 3,
   "metadata": {
    "collapsed": true
   },
   "outputs": [],
   "source": [
    "# Put the token of paris api\n",
    "token=\"fbce1d372430cfac0c1abbd73323fdf840d76b44b697b039576815a278b8f883\""
   ]
  },
  {
   "cell_type": "code",
   "execution_count": 4,
   "metadata": {},
   "outputs": [
    {
     "name": "stdout",
     "output_type": "stream",
     "text": [
      "('id', 27, u'Piscines')\n",
      "('id', 280, u'Tennis')\n"
     ]
    }
   ],
   "source": [
    "categories = requests.get(url=\"https://api.paris.fr/api/data/1.0/Equipements/get_categories/?token=\"+token)\n",
    "for c in categories.json()[\"data\"]:\n",
    "    if (\"piscine\" in c[\"name\"].lower()):\n",
    "        print (\"id\", c[\"idcategories\"],c[\"name\"])\n",
    "    if (\"tennis\" in c[\"name\"].lower()):\n",
    "        print (\"id\", c[\"idcategories\"],c[\"name\"])"
   ]
  },
  {
   "cell_type": "code",
   "execution_count": 5,
   "metadata": {
    "scrolled": true
   },
   "outputs": [
    {
     "data": {
      "text/plain": [
       "[{u'idcategories': 47, u'name': u'Ateliers Beaux-Arts'},\n",
       " {u'idcategories': 329, u'name': u'Autres lieux'},\n",
       " {u'idcategories': 332, u'name': u'Bains-douches'}]"
      ]
     },
     "execution_count": 5,
     "metadata": {},
     "output_type": "execute_result"
    }
   ],
   "source": [
    "categories.json()[\"data\"][:3]"
   ]
  },
  {
   "cell_type": "code",
   "execution_count": 6,
   "metadata": {
    "collapsed": true
   },
   "outputs": [],
   "source": [
    "piscines_paris = requests.get(url=\"https://api.paris.fr/api/data/1.0/Equipements/get_equipements/?token=\"+\n",
    "                                token+\"&cid=27&offset=1&limit=1000\").json()[\"data\"]\n",
    "tennis_paris = requests.get(url=\"https://api.paris.fr/api/data/1.0/Equipements/get_equipements/?token=\"+\n",
    "                                token+\"&cid=280&offset=1&limit=1000\").json()[\"data\"]"
   ]
  },
  {
   "cell_type": "code",
   "execution_count": 7,
   "metadata": {
    "scrolled": false
   },
   "outputs": [
    {
     "name": "stdout",
     "output_type": "stream",
     "text": [
      "Piscine Saint-Germain\n",
      "Tennis Château des Rentiers\n"
     ]
    }
   ],
   "source": [
    "print(get_equipement(\"2919\")[0][\"name\"])\n",
    "print(get_equipement(\"2968\")[0][\"name\"])"
   ]
  },
  {
   "cell_type": "code",
   "execution_count": 8,
   "metadata": {},
   "outputs": [
    {
     "name": "stdout",
     "output_type": "stream",
     "text": [
      "('number of piscines', 37)\n",
      "('number of tennis', 39)\n"
     ]
    }
   ],
   "source": [
    "print (\"number of piscines\", len(piscines_paris))\n",
    "print (\"number of tennis\", len(tennis_paris))"
   ]
  },
  {
   "cell_type": "markdown",
   "metadata": {},
   "source": [
    "## Create dataframe"
   ]
  },
  {
   "cell_type": "code",
   "execution_count": 9,
   "metadata": {
    "collapsed": true
   },
   "outputs": [],
   "source": [
    "df_piscines_paris = get_dataframe_equipements(\"27\",\"Swimming Pool\")\n",
    "df_tennis_paris = get_dataframe_equipements(\"280\",\"Tennis\")"
   ]
  },
  {
   "cell_type": "code",
   "execution_count": 10,
   "metadata": {
    "collapsed": true,
    "scrolled": false
   },
   "outputs": [],
   "source": [
    "df_piscines_paris.to_csv(\"../data_api/paris_api/piscines.csv\",index=False,encoding=\"utf-8\")\n",
    "df_tennis_paris.to_csv(\"../data_api/paris_api/tennis.csv\",index=False,encoding=\"utf-8\")"
   ]
  },
  {
   "cell_type": "markdown",
   "metadata": {},
   "source": [
    "## Create column state (Visited/Not Yet visited)"
   ]
  },
  {
   "cell_type": "code",
   "execution_count": 11,
   "metadata": {
    "collapsed": true
   },
   "outputs": [],
   "source": [
    "df_concat_paris = pd.concat([df_piscines_paris,df_tennis_paris])\n",
    "l_visited=[ 2916,  2918,  2919,  2920,  2921,  2923,  2924,  2925,  2926,\n",
    "        2927,  2928,  2929,  2930,  2931,  2932,  2933,  2934,\n",
    "        2936,  2937,  2939,  2941,\n",
    "        2945,  2946,  2947,  2948,  2949,  2950,  3324,  3325,  4012,\n",
    "        5041, 17349, 2940, 2935, 2967]\n",
    "df_concat_paris[\"state\"]=\"Not yet visited\"\n",
    "df_concat_paris.loc[df_concat_paris[\"id\"].isin(l_visited),\"state\"]=\"Visited\"\n",
    "df_concat_paris[\"city\"]=\"Paris\""
   ]
  },
  {
   "cell_type": "markdown",
   "metadata": {
    "collapsed": true
   },
   "source": [
    "# <a id='montrealapi'>2) Montreal API</a>"
   ]
  },
  {
   "cell_type": "code",
   "execution_count": 12,
   "metadata": {
    "collapsed": true
   },
   "outputs": [],
   "source": [
    "df_piscines_montreal = pd.read_csv(\"../data_api/montreal_api/piscines.csv\")"
   ]
  },
  {
   "cell_type": "code",
   "execution_count": 13,
   "metadata": {
    "collapsed": true
   },
   "outputs": [],
   "source": [
    "df_piscines_mnew = df_piscines_montreal[df_piscines_montreal[\"TYPE\"]\n",
    "                     .isin([\"Piscine intérieure\",\"Piscine extérieure\",\n",
    "                            \"Piscine extérieure, Jeux d'eau\"])].drop_duplicates([\"LONG\",\"LAT\"])\n",
    "df_piscines_mnew[\"ID_UEV\"]= [str(i)+\"m\"+str(idx) for idx,i in enumerate(df_piscines_mnew[\"ID_UEV\"].values)]\n",
    "df_piscines_mnew= df_piscines_mnew[[\"ID_UEV\",\"NOM\",\"LAT\",\"LONG\",\"ADRESSE\",\"ARRONDISSE\",\"TYPE\"]]\n",
    "df_piscines_mnew.columns=[\"id\",\"name\",\"lat\",\"lon\",\"address\",\"zipCode\",\"type\"]\n",
    "df_piscines_mnew[\"cat\"]=\"Swimming Pool\"\n",
    "df_piscines_mnew[\"state\"]=\"Not yet visited\"\n",
    "df_piscines_mnew[\"city\"]=\"Montréal\""
   ]
  },
  {
   "cell_type": "markdown",
   "metadata": {},
   "source": [
    "# <a id='concatenation'>3) Concatenation</a>"
   ]
  },
  {
   "cell_type": "code",
   "execution_count": 14,
   "metadata": {
    "collapsed": true,
    "scrolled": false
   },
   "outputs": [],
   "source": [
    "df_concat_cityequip = pd.concat([df_concat_paris,df_piscines_mnew])\n",
    "df_concat_cityequip= df_concat_cityequip[[\"id\",\"name\",\"lat\",\"lon\",\"address\",\n",
    "                                          \"zipCode\",\"websiteUrl\",\"id_cat\",\"cat\",\"type\",\"city\",\"state\"]]"
   ]
  },
  {
   "cell_type": "code",
   "execution_count": 16,
   "metadata": {
    "collapsed": true
   },
   "outputs": [],
   "source": [
    "df_concat_cityequip.to_csv(\"../data_website_equipments/csv/equipments.csv\",index=False,encoding=\"utf-8\")\n"
   ]
  }
 ],
 "metadata": {
  "kernelspec": {
   "display_name": "Python 2.7 - env",
   "language": "python",
   "name": "py27"
  },
  "language_info": {
   "codemirror_mode": {
    "name": "ipython",
    "version": 2
   },
   "file_extension": ".py",
   "mimetype": "text/x-python",
   "name": "python",
   "nbconvert_exporter": "python",
   "pygments_lexer": "ipython2",
   "version": "2.7.13"
  }
 },
 "nbformat": 4,
 "nbformat_minor": 2
}
